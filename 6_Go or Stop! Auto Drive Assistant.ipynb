{
 "cells": [
  {
   "cell_type": "markdown",
   "metadata": {},
   "source": [
    "## 이 노드의 루브릭           \n",
    "---\n",
    "\n",
    "1. KITTI 데이터셋에 대한 분석이 체계적으로 진행되었다.        \n",
    ": KITTI 데이터셋 구조와 내용을 파악하고 이를 토대로 필요한 데이터셋 가공을 정상 진행하였다.     \n",
    "    \n",
    "    \n",
    "2. RetinaNet 학습이 정상적으로 진행되어 Object Detection 결과의 시각화까지 진행되었다.     \n",
    ": 바운딩 박스가 정확히 표시된 시각화된 이미지를 생성하였다.        \n",
    "    \n",
    "    \n",
    "3. 자율주행 Object Detection 테스트 시스템 적용 결과, 만족스러운 정확도 성능을 달성하였다.     \n",
    ": 테스트 결과 90% 이상의 성능을 달성하였다."
   ]
  },
  {
   "cell_type": "code",
   "execution_count": null,
   "metadata": {},
   "outputs": [],
   "source": [
    "## 목차        \n",
    "----\n",
    "\n",
    "1. 데이터셋 로드\n",
    "    - 필요한 라이브러리 임포트     \n",
    "    - 데이터 분석      \n",
    "    - 이미지 시각화하여 확인하기       \n",
    "    \n",
    "2. 학습 모델 구성하기 "
   ]
  },
  {
   "cell_type": "code",
   "execution_count": null,
   "metadata": {},
   "outputs": [],
   "source": []
  }
 ],
 "metadata": {
  "kernelspec": {
   "display_name": "aiffel",
   "language": "python",
   "name": "aiffel"
  },
  "language_info": {
   "codemirror_mode": {
    "name": "ipython",
    "version": 3
   },
   "file_extension": ".py",
   "mimetype": "text/x-python",
   "name": "python",
   "nbconvert_exporter": "python",
   "pygments_lexer": "ipython3",
   "version": "3.7.9"
  }
 },
 "nbformat": 4,
 "nbformat_minor": 4
}
